{
 "cells": [
  {
   "cell_type": "markdown",
   "metadata": {},
   "source": [
    "## 1. Business Understanding"
   ]
  },
  {
   "cell_type": "markdown",
   "metadata": {},
   "source": [
    "### 1.1 Overview"
   ]
  },
  {
   "cell_type": "markdown",
   "metadata": {},
   "source": [
    ">Online shopping refers to a delivery and pick-up service. This particular service  is offered by companies through a website and mobile app. The service allows customers to order items from participating retailers with the shopping being done by a personal shopper or company. \n",
    "\n",
    ">Covid-19 has changed the way the world operates. The ‘new normal’ has also seen dramatic increases in online shopping trends for apparent reasons. Contactless transactions are safer, and lockdowns have given people no choice but to use online platforms to purchase goods. As you know, however, don’t last forever. Still, once a customer has experienced the convenience and safety of an initially obligated online shopping experience, they are very likely to use it again even when they don’t have to.\n",
    "\n",
    ">Some of the advantages of online shopping include; there are a variety of products, it's covenient, there are a lot of online discounts, there is buyer/shopping secrecy, the customers can avoid crowds, you can find unique/rare products and there is detailed information about the products that you are buying.\n",
    "\n",
    ">To effect some of these advantages of online shopping a recommendation system or recommendation engine can be used for information filtering where it tries to predict the preferences of a user and provide suggestions based on these preferences. \n"
   ]
  },
  {
   "cell_type": "markdown",
   "metadata": {},
   "source": [
    "### 1.2 Business Objectives"
   ]
  },
  {
   "cell_type": "markdown",
   "metadata": {},
   "source": [
    ">1. To particularly provide product recommendations and to look for unique ways to personalize marketing to customer base.\n",
    "\n",
    ">2. To determine the month with the highest sales so as to plan the optimal time to give discounts\n",
    "\n",
    ">3. To determine the peak hours of the day inorder to better strategize our marketing through online ads.\n"
   ]
  },
  {
   "cell_type": "markdown",
   "metadata": {},
   "source": [
    "### 1.3 Determining The Project Goals"
   ]
  },
  {
   "cell_type": "markdown",
   "metadata": {},
   "source": [
    "1. To come up with a recommendation systems that assists our customers who are mainly retailers in choosing products.\n",
    "2. "
   ]
  },
  {
   "cell_type": "markdown",
   "metadata": {},
   "source": [
    "### 1.4 Determining the project success criteria "
   ]
  },
  {
   "cell_type": "markdown",
   "metadata": {},
   "source": [
    ">1. MAE\n",
    "\n",
    ">2. RSME"
   ]
  },
  {
   "cell_type": "markdown",
   "metadata": {},
   "source": [
    "## 2. Data Understanding"
   ]
  },
  {
   "cell_type": "markdown",
   "metadata": {},
   "source": [
    "### 2.1 Collecting Data"
   ]
  },
  {
   "cell_type": "code",
   "execution_count": 371,
   "metadata": {},
   "outputs": [],
   "source": [
    "#import Libraries\n",
    "import pandas as pd\n",
    "import numpy as np\n",
    "import matplotlib.pyplot as plt\n",
    "import seaborn as sns\n",
    "import datetime\n",
    "from scipy import stats"
   ]
  },
  {
   "cell_type": "code",
   "execution_count": 372,
   "metadata": {},
   "outputs": [
    {
     "data": {
      "text/html": [
       "<div>\n",
       "<style scoped>\n",
       "    .dataframe tbody tr th:only-of-type {\n",
       "        vertical-align: middle;\n",
       "    }\n",
       "\n",
       "    .dataframe tbody tr th {\n",
       "        vertical-align: top;\n",
       "    }\n",
       "\n",
       "    .dataframe thead th {\n",
       "        text-align: right;\n",
       "    }\n",
       "</style>\n",
       "<table border=\"1\" class=\"dataframe\">\n",
       "  <thead>\n",
       "    <tr style=\"text-align: right;\">\n",
       "      <th></th>\n",
       "      <th>InvoiceNo</th>\n",
       "      <th>StockCode</th>\n",
       "      <th>Description</th>\n",
       "      <th>Quantity</th>\n",
       "      <th>InvoiceDate</th>\n",
       "      <th>UnitPrice</th>\n",
       "      <th>CustomerID</th>\n",
       "      <th>Country</th>\n",
       "    </tr>\n",
       "  </thead>\n",
       "  <tbody>\n",
       "    <tr>\n",
       "      <th>0</th>\n",
       "      <td>536365</td>\n",
       "      <td>85123A</td>\n",
       "      <td>WHITE HANGING HEART T-LIGHT HOLDER</td>\n",
       "      <td>6</td>\n",
       "      <td>12/1/2010 8:26</td>\n",
       "      <td>2.55</td>\n",
       "      <td>17850.0</td>\n",
       "      <td>United Kingdom</td>\n",
       "    </tr>\n",
       "    <tr>\n",
       "      <th>1</th>\n",
       "      <td>536365</td>\n",
       "      <td>71053</td>\n",
       "      <td>WHITE METAL LANTERN</td>\n",
       "      <td>6</td>\n",
       "      <td>12/1/2010 8:26</td>\n",
       "      <td>3.39</td>\n",
       "      <td>17850.0</td>\n",
       "      <td>United Kingdom</td>\n",
       "    </tr>\n",
       "    <tr>\n",
       "      <th>2</th>\n",
       "      <td>536365</td>\n",
       "      <td>84406B</td>\n",
       "      <td>CREAM CUPID HEARTS COAT HANGER</td>\n",
       "      <td>8</td>\n",
       "      <td>12/1/2010 8:26</td>\n",
       "      <td>2.75</td>\n",
       "      <td>17850.0</td>\n",
       "      <td>United Kingdom</td>\n",
       "    </tr>\n",
       "    <tr>\n",
       "      <th>3</th>\n",
       "      <td>536365</td>\n",
       "      <td>84029G</td>\n",
       "      <td>KNITTED UNION FLAG HOT WATER BOTTLE</td>\n",
       "      <td>6</td>\n",
       "      <td>12/1/2010 8:26</td>\n",
       "      <td>3.39</td>\n",
       "      <td>17850.0</td>\n",
       "      <td>United Kingdom</td>\n",
       "    </tr>\n",
       "    <tr>\n",
       "      <th>4</th>\n",
       "      <td>536365</td>\n",
       "      <td>84029E</td>\n",
       "      <td>RED WOOLLY HOTTIE WHITE HEART.</td>\n",
       "      <td>6</td>\n",
       "      <td>12/1/2010 8:26</td>\n",
       "      <td>3.39</td>\n",
       "      <td>17850.0</td>\n",
       "      <td>United Kingdom</td>\n",
       "    </tr>\n",
       "  </tbody>\n",
       "</table>\n",
       "</div>"
      ],
      "text/plain": [
       "  InvoiceNo StockCode                          Description  Quantity  \\\n",
       "0    536365    85123A   WHITE HANGING HEART T-LIGHT HOLDER         6   \n",
       "1    536365     71053                  WHITE METAL LANTERN         6   \n",
       "2    536365    84406B       CREAM CUPID HEARTS COAT HANGER         8   \n",
       "3    536365    84029G  KNITTED UNION FLAG HOT WATER BOTTLE         6   \n",
       "4    536365    84029E       RED WOOLLY HOTTIE WHITE HEART.         6   \n",
       "\n",
       "      InvoiceDate  UnitPrice  CustomerID         Country  \n",
       "0  12/1/2010 8:26       2.55     17850.0  United Kingdom  \n",
       "1  12/1/2010 8:26       3.39     17850.0  United Kingdom  \n",
       "2  12/1/2010 8:26       2.75     17850.0  United Kingdom  \n",
       "3  12/1/2010 8:26       3.39     17850.0  United Kingdom  \n",
       "4  12/1/2010 8:26       3.39     17850.0  United Kingdom  "
      ]
     },
     "execution_count": 372,
     "metadata": {},
     "output_type": "execute_result"
    }
   ],
   "source": [
    "#Loading Data and previewing the first five rows\n",
    "df = pd.read_csv('data.csv',encoding= 'unicode_escape')\n",
    "df.head(5)"
   ]
  },
  {
   "cell_type": "markdown",
   "metadata": {},
   "source": [
    "### 2.2 Describing the data"
   ]
  },
  {
   "cell_type": "code",
   "execution_count": 373,
   "metadata": {},
   "outputs": [
    {
     "data": {
      "text/html": [
       "<div>\n",
       "<style scoped>\n",
       "    .dataframe tbody tr th:only-of-type {\n",
       "        vertical-align: middle;\n",
       "    }\n",
       "\n",
       "    .dataframe tbody tr th {\n",
       "        vertical-align: top;\n",
       "    }\n",
       "\n",
       "    .dataframe thead th {\n",
       "        text-align: right;\n",
       "    }\n",
       "</style>\n",
       "<table border=\"1\" class=\"dataframe\">\n",
       "  <thead>\n",
       "    <tr style=\"text-align: right;\">\n",
       "      <th></th>\n",
       "      <th>Column_Name</th>\n",
       "      <th>Description</th>\n",
       "    </tr>\n",
       "  </thead>\n",
       "  <tbody>\n",
       "    <tr>\n",
       "      <th>0</th>\n",
       "      <td>InvoiceNo</td>\n",
       "      <td>Invoice number. Nominal, a 6-digit integral n...</td>\n",
       "    </tr>\n",
       "    <tr>\n",
       "      <th>1</th>\n",
       "      <td>StockCode</td>\n",
       "      <td>Product (item) code. Nominal, a 5-digit integ...</td>\n",
       "    </tr>\n",
       "    <tr>\n",
       "      <th>2</th>\n",
       "      <td>Description</td>\n",
       "      <td>Product (item) name. Nominal.</td>\n",
       "    </tr>\n",
       "    <tr>\n",
       "      <th>3</th>\n",
       "      <td>Quantity</td>\n",
       "      <td>The quantities of each product (item) per tra...</td>\n",
       "    </tr>\n",
       "    <tr>\n",
       "      <th>4</th>\n",
       "      <td>InvoiceDate</td>\n",
       "      <td>Invoice Date and time. Numeric, the day and t...</td>\n",
       "    </tr>\n",
       "    <tr>\n",
       "      <th>5</th>\n",
       "      <td>UnitPrice</td>\n",
       "      <td>Unit price. Numeric, Product price per unit i...</td>\n",
       "    </tr>\n",
       "    <tr>\n",
       "      <th>6</th>\n",
       "      <td>CustomerID</td>\n",
       "      <td>Customer number. Nominal, a 5-digit integral ...</td>\n",
       "    </tr>\n",
       "    <tr>\n",
       "      <th>7</th>\n",
       "      <td>Country</td>\n",
       "      <td>Country name. Nominal, the name of the countr...</td>\n",
       "    </tr>\n",
       "  </tbody>\n",
       "</table>\n",
       "</div>"
      ],
      "text/plain": [
       "   Column_Name                                        Description\n",
       "0    InvoiceNo   Invoice number. Nominal, a 6-digit integral n...\n",
       "1    StockCode   Product (item) code. Nominal, a 5-digit integ...\n",
       "2  Description                      Product (item) name. Nominal.\n",
       "3     Quantity   The quantities of each product (item) per tra...\n",
       "4  InvoiceDate   Invoice Date and time. Numeric, the day and t...\n",
       "5    UnitPrice   Unit price. Numeric, Product price per unit i...\n",
       "6   CustomerID   Customer number. Nominal, a 5-digit integral ...\n",
       "7      Country   Country name. Nominal, the name of the countr..."
      ]
     },
     "execution_count": 373,
     "metadata": {},
     "output_type": "execute_result"
    }
   ],
   "source": [
    "#Data Description\n",
    "Description = pd.read_csv('data_description.csv',header=0,squeeze=True,dtype=str,keep_default_na=False,encoding='unicode_escape')\n",
    "\n",
    "Description"
   ]
  },
  {
   "cell_type": "code",
   "execution_count": 374,
   "metadata": {},
   "outputs": [
    {
     "data": {
      "text/plain": [
       "(541909, 8)"
      ]
     },
     "execution_count": 374,
     "metadata": {},
     "output_type": "execute_result"
    }
   ],
   "source": [
    "#Looking at the shape of the data\n",
    "df.shape"
   ]
  },
  {
   "cell_type": "markdown",
   "metadata": {},
   "source": [
    "There are 541,909 rows and 8 columns in this data set"
   ]
  },
  {
   "cell_type": "code",
   "execution_count": 375,
   "metadata": {},
   "outputs": [
    {
     "name": "stdout",
     "output_type": "stream",
     "text": [
      "<class 'pandas.core.frame.DataFrame'>\n",
      "RangeIndex: 541909 entries, 0 to 541908\n",
      "Data columns (total 8 columns):\n",
      " #   Column       Non-Null Count   Dtype  \n",
      "---  ------       --------------   -----  \n",
      " 0   InvoiceNo    541909 non-null  object \n",
      " 1   StockCode    541909 non-null  object \n",
      " 2   Description  540455 non-null  object \n",
      " 3   Quantity     541909 non-null  int64  \n",
      " 4   InvoiceDate  541909 non-null  object \n",
      " 5   UnitPrice    541909 non-null  float64\n",
      " 6   CustomerID   406829 non-null  float64\n",
      " 7   Country      541909 non-null  object \n",
      "dtypes: float64(2), int64(1), object(5)\n",
      "memory usage: 33.1+ MB\n"
     ]
    }
   ],
   "source": [
    "#looking at the information of the data set\n",
    "df.info()"
   ]
  },
  {
   "cell_type": "code",
   "execution_count": 376,
   "metadata": {},
   "outputs": [
    {
     "data": {
      "text/html": [
       "<div>\n",
       "<style scoped>\n",
       "    .dataframe tbody tr th:only-of-type {\n",
       "        vertical-align: middle;\n",
       "    }\n",
       "\n",
       "    .dataframe tbody tr th {\n",
       "        vertical-align: top;\n",
       "    }\n",
       "\n",
       "    .dataframe thead th {\n",
       "        text-align: right;\n",
       "    }\n",
       "</style>\n",
       "<table border=\"1\" class=\"dataframe\">\n",
       "  <thead>\n",
       "    <tr style=\"text-align: right;\">\n",
       "      <th></th>\n",
       "      <th>Quantity</th>\n",
       "      <th>UnitPrice</th>\n",
       "      <th>CustomerID</th>\n",
       "    </tr>\n",
       "  </thead>\n",
       "  <tbody>\n",
       "    <tr>\n",
       "      <th>count</th>\n",
       "      <td>541909.000000</td>\n",
       "      <td>541909.000000</td>\n",
       "      <td>406829.000000</td>\n",
       "    </tr>\n",
       "    <tr>\n",
       "      <th>mean</th>\n",
       "      <td>9.552250</td>\n",
       "      <td>4.611114</td>\n",
       "      <td>15287.690570</td>\n",
       "    </tr>\n",
       "    <tr>\n",
       "      <th>std</th>\n",
       "      <td>218.081158</td>\n",
       "      <td>96.759853</td>\n",
       "      <td>1713.600303</td>\n",
       "    </tr>\n",
       "    <tr>\n",
       "      <th>min</th>\n",
       "      <td>-80995.000000</td>\n",
       "      <td>-11062.060000</td>\n",
       "      <td>12346.000000</td>\n",
       "    </tr>\n",
       "    <tr>\n",
       "      <th>25%</th>\n",
       "      <td>1.000000</td>\n",
       "      <td>1.250000</td>\n",
       "      <td>13953.000000</td>\n",
       "    </tr>\n",
       "    <tr>\n",
       "      <th>50%</th>\n",
       "      <td>3.000000</td>\n",
       "      <td>2.080000</td>\n",
       "      <td>15152.000000</td>\n",
       "    </tr>\n",
       "    <tr>\n",
       "      <th>75%</th>\n",
       "      <td>10.000000</td>\n",
       "      <td>4.130000</td>\n",
       "      <td>16791.000000</td>\n",
       "    </tr>\n",
       "    <tr>\n",
       "      <th>max</th>\n",
       "      <td>80995.000000</td>\n",
       "      <td>38970.000000</td>\n",
       "      <td>18287.000000</td>\n",
       "    </tr>\n",
       "  </tbody>\n",
       "</table>\n",
       "</div>"
      ],
      "text/plain": [
       "            Quantity      UnitPrice     CustomerID\n",
       "count  541909.000000  541909.000000  406829.000000\n",
       "mean        9.552250       4.611114   15287.690570\n",
       "std       218.081158      96.759853    1713.600303\n",
       "min    -80995.000000  -11062.060000   12346.000000\n",
       "25%         1.000000       1.250000   13953.000000\n",
       "50%         3.000000       2.080000   15152.000000\n",
       "75%        10.000000       4.130000   16791.000000\n",
       "max     80995.000000   38970.000000   18287.000000"
      ]
     },
     "execution_count": 376,
     "metadata": {},
     "output_type": "execute_result"
    }
   ],
   "source": [
    "# Summary statistics of the data set\n",
    "df.describe()"
   ]
  },
  {
   "cell_type": "code",
   "execution_count": 377,
   "metadata": {},
   "outputs": [
    {
     "data": {
      "text/plain": [
       "InvoiceNo           0\n",
       "StockCode           0\n",
       "Description      1454\n",
       "Quantity            0\n",
       "InvoiceDate         0\n",
       "UnitPrice           0\n",
       "CustomerID     135080\n",
       "Country             0\n",
       "dtype: int64"
      ]
     },
     "execution_count": 377,
     "metadata": {},
     "output_type": "execute_result"
    }
   ],
   "source": [
    "df.isnull().sum()"
   ]
  },
  {
   "cell_type": "code",
   "execution_count": 378,
   "metadata": {},
   "outputs": [
    {
     "data": {
      "text/plain": [
       "5268"
      ]
     },
     "execution_count": 378,
     "metadata": {},
     "output_type": "execute_result"
    }
   ],
   "source": [
    "df.duplicated().sum()"
   ]
  },
  {
   "cell_type": "markdown",
   "metadata": {},
   "source": [
    "## 3. Data Preparation"
   ]
  },
  {
   "cell_type": "markdown",
   "metadata": {},
   "source": [
    "### 3.1 Creating a new data frame"
   ]
  },
  {
   "cell_type": "markdown",
   "metadata": {},
   "source": [
    "#### 3.1.1 Splitting the date "
   ]
  },
  {
   "cell_type": "code",
   "execution_count": 379,
   "metadata": {},
   "outputs": [
    {
     "data": {
      "text/html": [
       "<div>\n",
       "<style scoped>\n",
       "    .dataframe tbody tr th:only-of-type {\n",
       "        vertical-align: middle;\n",
       "    }\n",
       "\n",
       "    .dataframe tbody tr th {\n",
       "        vertical-align: top;\n",
       "    }\n",
       "\n",
       "    .dataframe thead th {\n",
       "        text-align: right;\n",
       "    }\n",
       "</style>\n",
       "<table border=\"1\" class=\"dataframe\">\n",
       "  <thead>\n",
       "    <tr style=\"text-align: right;\">\n",
       "      <th></th>\n",
       "      <th>InvoiceNo</th>\n",
       "      <th>StockCode</th>\n",
       "      <th>Description</th>\n",
       "      <th>Quantity</th>\n",
       "      <th>InvoiceDate</th>\n",
       "      <th>UnitPrice</th>\n",
       "      <th>CustomerID</th>\n",
       "      <th>Country</th>\n",
       "      <th>Month</th>\n",
       "      <th>Day</th>\n",
       "      <th>Year</th>\n",
       "      <th>Time</th>\n",
       "      <th>Hour</th>\n",
       "      <th>Min</th>\n",
       "      <th>datetime</th>\n",
       "      <th>Day_week</th>\n",
       "    </tr>\n",
       "  </thead>\n",
       "  <tbody>\n",
       "    <tr>\n",
       "      <th>0</th>\n",
       "      <td>536365</td>\n",
       "      <td>85123A</td>\n",
       "      <td>WHITE HANGING HEART T-LIGHT HOLDER</td>\n",
       "      <td>6</td>\n",
       "      <td>12/1/2010 8:26</td>\n",
       "      <td>2.55</td>\n",
       "      <td>17850.0</td>\n",
       "      <td>United Kingdom</td>\n",
       "      <td>12</td>\n",
       "      <td>1</td>\n",
       "      <td>2010</td>\n",
       "      <td>8:26</td>\n",
       "      <td>8</td>\n",
       "      <td>26</td>\n",
       "      <td>2010-12-01</td>\n",
       "      <td>Wed</td>\n",
       "    </tr>\n",
       "    <tr>\n",
       "      <th>2066</th>\n",
       "      <td>536557</td>\n",
       "      <td>84029E</td>\n",
       "      <td>RED WOOLLY HOTTIE WHITE HEART.</td>\n",
       "      <td>1</td>\n",
       "      <td>12/1/2010 14:41</td>\n",
       "      <td>3.75</td>\n",
       "      <td>17841.0</td>\n",
       "      <td>United Kingdom</td>\n",
       "      <td>12</td>\n",
       "      <td>1</td>\n",
       "      <td>2010</td>\n",
       "      <td>14:41</td>\n",
       "      <td>14</td>\n",
       "      <td>41</td>\n",
       "      <td>2010-12-01</td>\n",
       "      <td>Wed</td>\n",
       "    </tr>\n",
       "    <tr>\n",
       "      <th>2067</th>\n",
       "      <td>536557</td>\n",
       "      <td>22678</td>\n",
       "      <td>FRENCH BLUE METAL DOOR SIGN 3</td>\n",
       "      <td>3</td>\n",
       "      <td>12/1/2010 14:41</td>\n",
       "      <td>1.25</td>\n",
       "      <td>17841.0</td>\n",
       "      <td>United Kingdom</td>\n",
       "      <td>12</td>\n",
       "      <td>1</td>\n",
       "      <td>2010</td>\n",
       "      <td>14:41</td>\n",
       "      <td>14</td>\n",
       "      <td>41</td>\n",
       "      <td>2010-12-01</td>\n",
       "      <td>Wed</td>\n",
       "    </tr>\n",
       "    <tr>\n",
       "      <th>2068</th>\n",
       "      <td>536557</td>\n",
       "      <td>22686</td>\n",
       "      <td>FRENCH BLUE METAL DOOR SIGN No</td>\n",
       "      <td>1</td>\n",
       "      <td>12/1/2010 14:41</td>\n",
       "      <td>1.25</td>\n",
       "      <td>17841.0</td>\n",
       "      <td>United Kingdom</td>\n",
       "      <td>12</td>\n",
       "      <td>1</td>\n",
       "      <td>2010</td>\n",
       "      <td>14:41</td>\n",
       "      <td>14</td>\n",
       "      <td>41</td>\n",
       "      <td>2010-12-01</td>\n",
       "      <td>Wed</td>\n",
       "    </tr>\n",
       "    <tr>\n",
       "      <th>2069</th>\n",
       "      <td>536557</td>\n",
       "      <td>22468</td>\n",
       "      <td>BABUSHKA LIGHTS STRING OF 10</td>\n",
       "      <td>1</td>\n",
       "      <td>12/1/2010 14:41</td>\n",
       "      <td>6.75</td>\n",
       "      <td>17841.0</td>\n",
       "      <td>United Kingdom</td>\n",
       "      <td>12</td>\n",
       "      <td>1</td>\n",
       "      <td>2010</td>\n",
       "      <td>14:41</td>\n",
       "      <td>14</td>\n",
       "      <td>41</td>\n",
       "      <td>2010-12-01</td>\n",
       "      <td>Wed</td>\n",
       "    </tr>\n",
       "  </tbody>\n",
       "</table>\n",
       "</div>"
      ],
      "text/plain": [
       "     InvoiceNo StockCode                         Description  Quantity  \\\n",
       "0       536365    85123A  WHITE HANGING HEART T-LIGHT HOLDER         6   \n",
       "2066    536557    84029E      RED WOOLLY HOTTIE WHITE HEART.         1   \n",
       "2067    536557     22678       FRENCH BLUE METAL DOOR SIGN 3         3   \n",
       "2068    536557     22686      FRENCH BLUE METAL DOOR SIGN No         1   \n",
       "2069    536557     22468        BABUSHKA LIGHTS STRING OF 10         1   \n",
       "\n",
       "          InvoiceDate  UnitPrice  CustomerID         Country  Month  Day  \\\n",
       "0      12/1/2010 8:26       2.55     17850.0  United Kingdom     12    1   \n",
       "2066  12/1/2010 14:41       3.75     17841.0  United Kingdom     12    1   \n",
       "2067  12/1/2010 14:41       1.25     17841.0  United Kingdom     12    1   \n",
       "2068  12/1/2010 14:41       1.25     17841.0  United Kingdom     12    1   \n",
       "2069  12/1/2010 14:41       6.75     17841.0  United Kingdom     12    1   \n",
       "\n",
       "      Year   Time  Hour  Min    datetime Day_week  \n",
       "0     2010   8:26     8   26  2010-12-01      Wed  \n",
       "2066  2010  14:41    14   41  2010-12-01      Wed  \n",
       "2067  2010  14:41    14   41  2010-12-01      Wed  \n",
       "2068  2010  14:41    14   41  2010-12-01      Wed  \n",
       "2069  2010  14:41    14   41  2010-12-01      Wed  "
      ]
     },
     "execution_count": 379,
     "metadata": {},
     "output_type": "execute_result"
    }
   ],
   "source": [
    "# Spliting the date to years, months, day and time\n",
    "df['Month'] = df['InvoiceDate'].apply(lambda x : x.split('/')[0]).astype(np.uint8)\n",
    "df['Day'] = df['InvoiceDate'].apply(lambda x : x.split('/')[1]).astype(np.uint8)\n",
    "df['Year'] = df['InvoiceDate'].apply(lambda x : x.split('/')[2].split(' ')[0]).astype(np.uint16)\n",
    "df['Time'] = df['InvoiceDate'].apply(lambda x : x.split('/')[2].split(' ')[1])\n",
    "df['Hour']= df['Time'].apply(lambda x : x.split(':')[0]).astype(np.uint8)\n",
    "df['Min']= df['Time'].apply(lambda x : x.split(':')[1]).astype(np.uint8)\n",
    "df['datetime'] = list(map(lambda x : datetime.date(x[0],x[1],x[2]),df[['Year','Month','Day']].values) )\n",
    "df['Day_week'] = list(map(lambda x :x.weekday(),df['datetime'].values)) # datetime.date(2017,12,25)\n",
    "df['Day_week'] = df['Day_week'].map({0:'Mon',1:'Tue',2:'Wed',3:'Thur',4:'Fri',5:'Sat',6:'Sun'})\n",
    "df = df.sort_values('datetime')\n",
    "\n",
    "df.head(5)"
   ]
  },
  {
   "cell_type": "markdown",
   "metadata": {},
   "source": [
    "#### 3.1.2 Adding Total Cost Column"
   ]
  },
  {
   "cell_type": "code",
   "execution_count": 380,
   "metadata": {},
   "outputs": [
    {
     "data": {
      "text/html": [
       "<div>\n",
       "<style scoped>\n",
       "    .dataframe tbody tr th:only-of-type {\n",
       "        vertical-align: middle;\n",
       "    }\n",
       "\n",
       "    .dataframe tbody tr th {\n",
       "        vertical-align: top;\n",
       "    }\n",
       "\n",
       "    .dataframe thead th {\n",
       "        text-align: right;\n",
       "    }\n",
       "</style>\n",
       "<table border=\"1\" class=\"dataframe\">\n",
       "  <thead>\n",
       "    <tr style=\"text-align: right;\">\n",
       "      <th></th>\n",
       "      <th>InvoiceNo</th>\n",
       "      <th>StockCode</th>\n",
       "      <th>Description</th>\n",
       "      <th>Quantity</th>\n",
       "      <th>InvoiceDate</th>\n",
       "      <th>UnitPrice</th>\n",
       "      <th>CustomerID</th>\n",
       "      <th>Country</th>\n",
       "      <th>Month</th>\n",
       "      <th>Day</th>\n",
       "      <th>Year</th>\n",
       "      <th>Time</th>\n",
       "      <th>Hour</th>\n",
       "      <th>Min</th>\n",
       "      <th>datetime</th>\n",
       "      <th>Day_week</th>\n",
       "      <th>Total_Amount</th>\n",
       "    </tr>\n",
       "  </thead>\n",
       "  <tbody>\n",
       "    <tr>\n",
       "      <th>0</th>\n",
       "      <td>536365</td>\n",
       "      <td>85123A</td>\n",
       "      <td>WHITE HANGING HEART T-LIGHT HOLDER</td>\n",
       "      <td>6</td>\n",
       "      <td>12/1/2010 8:26</td>\n",
       "      <td>2.55</td>\n",
       "      <td>17850.0</td>\n",
       "      <td>United Kingdom</td>\n",
       "      <td>12</td>\n",
       "      <td>1</td>\n",
       "      <td>2010</td>\n",
       "      <td>8:26</td>\n",
       "      <td>8</td>\n",
       "      <td>26</td>\n",
       "      <td>2010-12-01</td>\n",
       "      <td>Wed</td>\n",
       "      <td>15.30</td>\n",
       "    </tr>\n",
       "    <tr>\n",
       "      <th>2066</th>\n",
       "      <td>536557</td>\n",
       "      <td>84029E</td>\n",
       "      <td>RED WOOLLY HOTTIE WHITE HEART.</td>\n",
       "      <td>1</td>\n",
       "      <td>12/1/2010 14:41</td>\n",
       "      <td>3.75</td>\n",
       "      <td>17841.0</td>\n",
       "      <td>United Kingdom</td>\n",
       "      <td>12</td>\n",
       "      <td>1</td>\n",
       "      <td>2010</td>\n",
       "      <td>14:41</td>\n",
       "      <td>14</td>\n",
       "      <td>41</td>\n",
       "      <td>2010-12-01</td>\n",
       "      <td>Wed</td>\n",
       "      <td>3.75</td>\n",
       "    </tr>\n",
       "    <tr>\n",
       "      <th>2067</th>\n",
       "      <td>536557</td>\n",
       "      <td>22678</td>\n",
       "      <td>FRENCH BLUE METAL DOOR SIGN 3</td>\n",
       "      <td>3</td>\n",
       "      <td>12/1/2010 14:41</td>\n",
       "      <td>1.25</td>\n",
       "      <td>17841.0</td>\n",
       "      <td>United Kingdom</td>\n",
       "      <td>12</td>\n",
       "      <td>1</td>\n",
       "      <td>2010</td>\n",
       "      <td>14:41</td>\n",
       "      <td>14</td>\n",
       "      <td>41</td>\n",
       "      <td>2010-12-01</td>\n",
       "      <td>Wed</td>\n",
       "      <td>3.75</td>\n",
       "    </tr>\n",
       "    <tr>\n",
       "      <th>2068</th>\n",
       "      <td>536557</td>\n",
       "      <td>22686</td>\n",
       "      <td>FRENCH BLUE METAL DOOR SIGN No</td>\n",
       "      <td>1</td>\n",
       "      <td>12/1/2010 14:41</td>\n",
       "      <td>1.25</td>\n",
       "      <td>17841.0</td>\n",
       "      <td>United Kingdom</td>\n",
       "      <td>12</td>\n",
       "      <td>1</td>\n",
       "      <td>2010</td>\n",
       "      <td>14:41</td>\n",
       "      <td>14</td>\n",
       "      <td>41</td>\n",
       "      <td>2010-12-01</td>\n",
       "      <td>Wed</td>\n",
       "      <td>1.25</td>\n",
       "    </tr>\n",
       "    <tr>\n",
       "      <th>2069</th>\n",
       "      <td>536557</td>\n",
       "      <td>22468</td>\n",
       "      <td>BABUSHKA LIGHTS STRING OF 10</td>\n",
       "      <td>1</td>\n",
       "      <td>12/1/2010 14:41</td>\n",
       "      <td>6.75</td>\n",
       "      <td>17841.0</td>\n",
       "      <td>United Kingdom</td>\n",
       "      <td>12</td>\n",
       "      <td>1</td>\n",
       "      <td>2010</td>\n",
       "      <td>14:41</td>\n",
       "      <td>14</td>\n",
       "      <td>41</td>\n",
       "      <td>2010-12-01</td>\n",
       "      <td>Wed</td>\n",
       "      <td>6.75</td>\n",
       "    </tr>\n",
       "  </tbody>\n",
       "</table>\n",
       "</div>"
      ],
      "text/plain": [
       "     InvoiceNo StockCode                         Description  Quantity  \\\n",
       "0       536365    85123A  WHITE HANGING HEART T-LIGHT HOLDER         6   \n",
       "2066    536557    84029E      RED WOOLLY HOTTIE WHITE HEART.         1   \n",
       "2067    536557     22678       FRENCH BLUE METAL DOOR SIGN 3         3   \n",
       "2068    536557     22686      FRENCH BLUE METAL DOOR SIGN No         1   \n",
       "2069    536557     22468        BABUSHKA LIGHTS STRING OF 10         1   \n",
       "\n",
       "          InvoiceDate  UnitPrice  CustomerID         Country  Month  Day  \\\n",
       "0      12/1/2010 8:26       2.55     17850.0  United Kingdom     12    1   \n",
       "2066  12/1/2010 14:41       3.75     17841.0  United Kingdom     12    1   \n",
       "2067  12/1/2010 14:41       1.25     17841.0  United Kingdom     12    1   \n",
       "2068  12/1/2010 14:41       1.25     17841.0  United Kingdom     12    1   \n",
       "2069  12/1/2010 14:41       6.75     17841.0  United Kingdom     12    1   \n",
       "\n",
       "      Year   Time  Hour  Min    datetime Day_week  Total_Amount  \n",
       "0     2010   8:26     8   26  2010-12-01      Wed         15.30  \n",
       "2066  2010  14:41    14   41  2010-12-01      Wed          3.75  \n",
       "2067  2010  14:41    14   41  2010-12-01      Wed          3.75  \n",
       "2068  2010  14:41    14   41  2010-12-01      Wed          1.25  \n",
       "2069  2010  14:41    14   41  2010-12-01      Wed          6.75  "
      ]
     },
     "execution_count": 380,
     "metadata": {},
     "output_type": "execute_result"
    }
   ],
   "source": [
    "# Calculating the total cost per order\n",
    "df['Total_Amount'] = df['Quantity']*df['UnitPrice']\n",
    "df.head(5)"
   ]
  },
  {
   "cell_type": "code",
   "execution_count": 381,
   "metadata": {},
   "outputs": [
    {
     "name": "stdout",
     "output_type": "stream",
     "text": [
      "<class 'pandas.core.frame.DataFrame'>\n",
      "Int64Index: 541909 entries, 0 to 541908\n",
      "Data columns (total 17 columns):\n",
      " #   Column        Non-Null Count   Dtype  \n",
      "---  ------        --------------   -----  \n",
      " 0   InvoiceNo     541909 non-null  object \n",
      " 1   StockCode     541909 non-null  object \n",
      " 2   Description   540455 non-null  object \n",
      " 3   Quantity      541909 non-null  int64  \n",
      " 4   InvoiceDate   541909 non-null  object \n",
      " 5   UnitPrice     541909 non-null  float64\n",
      " 6   CustomerID    406829 non-null  float64\n",
      " 7   Country       541909 non-null  object \n",
      " 8   Month         541909 non-null  uint8  \n",
      " 9   Day           541909 non-null  uint8  \n",
      " 10  Year          541909 non-null  uint16 \n",
      " 11  Time          541909 non-null  object \n",
      " 12  Hour          541909 non-null  uint8  \n",
      " 13  Min           541909 non-null  uint8  \n",
      " 14  datetime      541909 non-null  object \n",
      " 15  Day_week      541909 non-null  object \n",
      " 16  Total_Amount  541909 non-null  float64\n",
      "dtypes: float64(3), int64(1), object(8), uint16(1), uint8(4)\n",
      "memory usage: 56.8+ MB\n"
     ]
    }
   ],
   "source": [
    "#New data info\n",
    "df.info()"
   ]
  },
  {
   "cell_type": "code",
   "execution_count": 382,
   "metadata": {},
   "outputs": [
    {
     "data": {
      "text/plain": [
       "(541909, 17)"
      ]
     },
     "execution_count": 382,
     "metadata": {},
     "output_type": "execute_result"
    }
   ],
   "source": [
    "#New data shape\n",
    "df.shape"
   ]
  },
  {
   "cell_type": "code",
   "execution_count": 383,
   "metadata": {},
   "outputs": [
    {
     "data": {
      "text/html": [
       "<div>\n",
       "<style scoped>\n",
       "    .dataframe tbody tr th:only-of-type {\n",
       "        vertical-align: middle;\n",
       "    }\n",
       "\n",
       "    .dataframe tbody tr th {\n",
       "        vertical-align: top;\n",
       "    }\n",
       "\n",
       "    .dataframe thead th {\n",
       "        text-align: right;\n",
       "    }\n",
       "</style>\n",
       "<table border=\"1\" class=\"dataframe\">\n",
       "  <thead>\n",
       "    <tr style=\"text-align: right;\">\n",
       "      <th></th>\n",
       "      <th>InvoiceNo</th>\n",
       "      <th>StockCode</th>\n",
       "      <th>Description</th>\n",
       "      <th>Quantity</th>\n",
       "      <th>InvoiceDate</th>\n",
       "      <th>UnitPrice</th>\n",
       "      <th>CustomerID</th>\n",
       "      <th>Country</th>\n",
       "      <th>Month</th>\n",
       "      <th>Day</th>\n",
       "      <th>Year</th>\n",
       "      <th>Time</th>\n",
       "      <th>Hour</th>\n",
       "      <th>Min</th>\n",
       "      <th>datetime</th>\n",
       "      <th>Day_week</th>\n",
       "      <th>Total_Amount</th>\n",
       "    </tr>\n",
       "  </thead>\n",
       "  <tbody>\n",
       "    <tr>\n",
       "      <th>0</th>\n",
       "      <td>536365</td>\n",
       "      <td>85123A</td>\n",
       "      <td>WHITE HANGING HEART T-LIGHT HOLDER</td>\n",
       "      <td>6</td>\n",
       "      <td>12/1/2010 8:26</td>\n",
       "      <td>2.55</td>\n",
       "      <td>17850.0</td>\n",
       "      <td>United Kingdom</td>\n",
       "      <td>12</td>\n",
       "      <td>1</td>\n",
       "      <td>2010</td>\n",
       "      <td>8:26</td>\n",
       "      <td>8</td>\n",
       "      <td>26</td>\n",
       "      <td>2010-12-01</td>\n",
       "      <td>Wed</td>\n",
       "      <td>15.30</td>\n",
       "    </tr>\n",
       "    <tr>\n",
       "      <th>2066</th>\n",
       "      <td>536557</td>\n",
       "      <td>84029E</td>\n",
       "      <td>RED WOOLLY HOTTIE WHITE HEART.</td>\n",
       "      <td>1</td>\n",
       "      <td>12/1/2010 14:41</td>\n",
       "      <td>3.75</td>\n",
       "      <td>17841.0</td>\n",
       "      <td>United Kingdom</td>\n",
       "      <td>12</td>\n",
       "      <td>1</td>\n",
       "      <td>2010</td>\n",
       "      <td>14:41</td>\n",
       "      <td>14</td>\n",
       "      <td>41</td>\n",
       "      <td>2010-12-01</td>\n",
       "      <td>Wed</td>\n",
       "      <td>3.75</td>\n",
       "    </tr>\n",
       "    <tr>\n",
       "      <th>2067</th>\n",
       "      <td>536557</td>\n",
       "      <td>22678</td>\n",
       "      <td>FRENCH BLUE METAL DOOR SIGN 3</td>\n",
       "      <td>3</td>\n",
       "      <td>12/1/2010 14:41</td>\n",
       "      <td>1.25</td>\n",
       "      <td>17841.0</td>\n",
       "      <td>United Kingdom</td>\n",
       "      <td>12</td>\n",
       "      <td>1</td>\n",
       "      <td>2010</td>\n",
       "      <td>14:41</td>\n",
       "      <td>14</td>\n",
       "      <td>41</td>\n",
       "      <td>2010-12-01</td>\n",
       "      <td>Wed</td>\n",
       "      <td>3.75</td>\n",
       "    </tr>\n",
       "    <tr>\n",
       "      <th>2068</th>\n",
       "      <td>536557</td>\n",
       "      <td>22686</td>\n",
       "      <td>FRENCH BLUE METAL DOOR SIGN No</td>\n",
       "      <td>1</td>\n",
       "      <td>12/1/2010 14:41</td>\n",
       "      <td>1.25</td>\n",
       "      <td>17841.0</td>\n",
       "      <td>United Kingdom</td>\n",
       "      <td>12</td>\n",
       "      <td>1</td>\n",
       "      <td>2010</td>\n",
       "      <td>14:41</td>\n",
       "      <td>14</td>\n",
       "      <td>41</td>\n",
       "      <td>2010-12-01</td>\n",
       "      <td>Wed</td>\n",
       "      <td>1.25</td>\n",
       "    </tr>\n",
       "    <tr>\n",
       "      <th>2069</th>\n",
       "      <td>536557</td>\n",
       "      <td>22468</td>\n",
       "      <td>BABUSHKA LIGHTS STRING OF 10</td>\n",
       "      <td>1</td>\n",
       "      <td>12/1/2010 14:41</td>\n",
       "      <td>6.75</td>\n",
       "      <td>17841.0</td>\n",
       "      <td>United Kingdom</td>\n",
       "      <td>12</td>\n",
       "      <td>1</td>\n",
       "      <td>2010</td>\n",
       "      <td>14:41</td>\n",
       "      <td>14</td>\n",
       "      <td>41</td>\n",
       "      <td>2010-12-01</td>\n",
       "      <td>Wed</td>\n",
       "      <td>6.75</td>\n",
       "    </tr>\n",
       "  </tbody>\n",
       "</table>\n",
       "</div>"
      ],
      "text/plain": [
       "     InvoiceNo StockCode                         Description  Quantity  \\\n",
       "0       536365    85123A  WHITE HANGING HEART T-LIGHT HOLDER         6   \n",
       "2066    536557    84029E      RED WOOLLY HOTTIE WHITE HEART.         1   \n",
       "2067    536557     22678       FRENCH BLUE METAL DOOR SIGN 3         3   \n",
       "2068    536557     22686      FRENCH BLUE METAL DOOR SIGN No         1   \n",
       "2069    536557     22468        BABUSHKA LIGHTS STRING OF 10         1   \n",
       "\n",
       "          InvoiceDate  UnitPrice  CustomerID         Country  Month  Day  \\\n",
       "0      12/1/2010 8:26       2.55     17850.0  United Kingdom     12    1   \n",
       "2066  12/1/2010 14:41       3.75     17841.0  United Kingdom     12    1   \n",
       "2067  12/1/2010 14:41       1.25     17841.0  United Kingdom     12    1   \n",
       "2068  12/1/2010 14:41       1.25     17841.0  United Kingdom     12    1   \n",
       "2069  12/1/2010 14:41       6.75     17841.0  United Kingdom     12    1   \n",
       "\n",
       "      Year   Time  Hour  Min    datetime Day_week  Total_Amount  \n",
       "0     2010   8:26     8   26  2010-12-01      Wed         15.30  \n",
       "2066  2010  14:41    14   41  2010-12-01      Wed          3.75  \n",
       "2067  2010  14:41    14   41  2010-12-01      Wed          3.75  \n",
       "2068  2010  14:41    14   41  2010-12-01      Wed          1.25  \n",
       "2069  2010  14:41    14   41  2010-12-01      Wed          6.75  "
      ]
     },
     "execution_count": 383,
     "metadata": {},
     "output_type": "execute_result"
    }
   ],
   "source": [
    "#New data set first 5 rows\n",
    "df.head(5)"
   ]
  },
  {
   "cell_type": "markdown",
   "metadata": {},
   "source": [
    "### 3.2 Cleaning the Data"
   ]
  },
  {
   "cell_type": "markdown",
   "metadata": {},
   "source": [
    "#### 3.2.1 Duplicates"
   ]
  },
  {
   "cell_type": "code",
   "execution_count": 384,
   "metadata": {},
   "outputs": [
    {
     "data": {
      "text/plain": [
       "0.9721189350979592"
      ]
     },
     "execution_count": 384,
     "metadata": {},
     "output_type": "execute_result"
    }
   ],
   "source": [
    "#Looking at the duplicates in the data set\n",
    "\n",
    "df.duplicated().sum()/len(df)*100"
   ]
  },
  {
   "cell_type": "code",
   "execution_count": 385,
   "metadata": {},
   "outputs": [
    {
     "data": {
      "text/html": [
       "<div>\n",
       "<style scoped>\n",
       "    .dataframe tbody tr th:only-of-type {\n",
       "        vertical-align: middle;\n",
       "    }\n",
       "\n",
       "    .dataframe tbody tr th {\n",
       "        vertical-align: top;\n",
       "    }\n",
       "\n",
       "    .dataframe thead th {\n",
       "        text-align: right;\n",
       "    }\n",
       "</style>\n",
       "<table border=\"1\" class=\"dataframe\">\n",
       "  <thead>\n",
       "    <tr style=\"text-align: right;\">\n",
       "      <th></th>\n",
       "      <th>InvoiceNo</th>\n",
       "      <th>StockCode</th>\n",
       "      <th>Description</th>\n",
       "      <th>Quantity</th>\n",
       "      <th>InvoiceDate</th>\n",
       "      <th>UnitPrice</th>\n",
       "      <th>CustomerID</th>\n",
       "      <th>Country</th>\n",
       "      <th>Month</th>\n",
       "      <th>Day</th>\n",
       "      <th>Year</th>\n",
       "      <th>Time</th>\n",
       "      <th>Hour</th>\n",
       "      <th>Min</th>\n",
       "      <th>datetime</th>\n",
       "      <th>Day_week</th>\n",
       "      <th>Total_Amount</th>\n",
       "    </tr>\n",
       "  </thead>\n",
       "  <tbody>\n",
       "    <tr>\n",
       "      <th>0</th>\n",
       "      <td>536365</td>\n",
       "      <td>85123A</td>\n",
       "      <td>WHITE HANGING HEART T-LIGHT HOLDER</td>\n",
       "      <td>6</td>\n",
       "      <td>12/1/2010 8:26</td>\n",
       "      <td>2.55</td>\n",
       "      <td>17850.0</td>\n",
       "      <td>United Kingdom</td>\n",
       "      <td>12</td>\n",
       "      <td>1</td>\n",
       "      <td>2010</td>\n",
       "      <td>8:26</td>\n",
       "      <td>8</td>\n",
       "      <td>26</td>\n",
       "      <td>2010-12-01</td>\n",
       "      <td>Wed</td>\n",
       "      <td>15.30</td>\n",
       "    </tr>\n",
       "    <tr>\n",
       "      <th>2066</th>\n",
       "      <td>536557</td>\n",
       "      <td>84029E</td>\n",
       "      <td>RED WOOLLY HOTTIE WHITE HEART.</td>\n",
       "      <td>1</td>\n",
       "      <td>12/1/2010 14:41</td>\n",
       "      <td>3.75</td>\n",
       "      <td>17841.0</td>\n",
       "      <td>United Kingdom</td>\n",
       "      <td>12</td>\n",
       "      <td>1</td>\n",
       "      <td>2010</td>\n",
       "      <td>14:41</td>\n",
       "      <td>14</td>\n",
       "      <td>41</td>\n",
       "      <td>2010-12-01</td>\n",
       "      <td>Wed</td>\n",
       "      <td>3.75</td>\n",
       "    </tr>\n",
       "    <tr>\n",
       "      <th>2067</th>\n",
       "      <td>536557</td>\n",
       "      <td>22678</td>\n",
       "      <td>FRENCH BLUE METAL DOOR SIGN 3</td>\n",
       "      <td>3</td>\n",
       "      <td>12/1/2010 14:41</td>\n",
       "      <td>1.25</td>\n",
       "      <td>17841.0</td>\n",
       "      <td>United Kingdom</td>\n",
       "      <td>12</td>\n",
       "      <td>1</td>\n",
       "      <td>2010</td>\n",
       "      <td>14:41</td>\n",
       "      <td>14</td>\n",
       "      <td>41</td>\n",
       "      <td>2010-12-01</td>\n",
       "      <td>Wed</td>\n",
       "      <td>3.75</td>\n",
       "    </tr>\n",
       "    <tr>\n",
       "      <th>2068</th>\n",
       "      <td>536557</td>\n",
       "      <td>22686</td>\n",
       "      <td>FRENCH BLUE METAL DOOR SIGN No</td>\n",
       "      <td>1</td>\n",
       "      <td>12/1/2010 14:41</td>\n",
       "      <td>1.25</td>\n",
       "      <td>17841.0</td>\n",
       "      <td>United Kingdom</td>\n",
       "      <td>12</td>\n",
       "      <td>1</td>\n",
       "      <td>2010</td>\n",
       "      <td>14:41</td>\n",
       "      <td>14</td>\n",
       "      <td>41</td>\n",
       "      <td>2010-12-01</td>\n",
       "      <td>Wed</td>\n",
       "      <td>1.25</td>\n",
       "    </tr>\n",
       "    <tr>\n",
       "      <th>2069</th>\n",
       "      <td>536557</td>\n",
       "      <td>22468</td>\n",
       "      <td>BABUSHKA LIGHTS STRING OF 10</td>\n",
       "      <td>1</td>\n",
       "      <td>12/1/2010 14:41</td>\n",
       "      <td>6.75</td>\n",
       "      <td>17841.0</td>\n",
       "      <td>United Kingdom</td>\n",
       "      <td>12</td>\n",
       "      <td>1</td>\n",
       "      <td>2010</td>\n",
       "      <td>14:41</td>\n",
       "      <td>14</td>\n",
       "      <td>41</td>\n",
       "      <td>2010-12-01</td>\n",
       "      <td>Wed</td>\n",
       "      <td>6.75</td>\n",
       "    </tr>\n",
       "    <tr>\n",
       "      <th>...</th>\n",
       "      <td>...</td>\n",
       "      <td>...</td>\n",
       "      <td>...</td>\n",
       "      <td>...</td>\n",
       "      <td>...</td>\n",
       "      <td>...</td>\n",
       "      <td>...</td>\n",
       "      <td>...</td>\n",
       "      <td>...</td>\n",
       "      <td>...</td>\n",
       "      <td>...</td>\n",
       "      <td>...</td>\n",
       "      <td>...</td>\n",
       "      <td>...</td>\n",
       "      <td>...</td>\n",
       "      <td>...</td>\n",
       "      <td>...</td>\n",
       "    </tr>\n",
       "    <tr>\n",
       "      <th>540815</th>\n",
       "      <td>581492</td>\n",
       "      <td>22358</td>\n",
       "      <td>KINGS CHOICE TEA CADDY</td>\n",
       "      <td>1</td>\n",
       "      <td>12/9/2011 10:03</td>\n",
       "      <td>5.79</td>\n",
       "      <td>NaN</td>\n",
       "      <td>United Kingdom</td>\n",
       "      <td>12</td>\n",
       "      <td>9</td>\n",
       "      <td>2011</td>\n",
       "      <td>10:03</td>\n",
       "      <td>10</td>\n",
       "      <td>3</td>\n",
       "      <td>2011-12-09</td>\n",
       "      <td>Fri</td>\n",
       "      <td>5.79</td>\n",
       "    </tr>\n",
       "    <tr>\n",
       "      <th>540814</th>\n",
       "      <td>581492</td>\n",
       "      <td>22357</td>\n",
       "      <td>KINGS CHOICE BISCUIT TIN</td>\n",
       "      <td>2</td>\n",
       "      <td>12/9/2011 10:03</td>\n",
       "      <td>4.13</td>\n",
       "      <td>NaN</td>\n",
       "      <td>United Kingdom</td>\n",
       "      <td>12</td>\n",
       "      <td>9</td>\n",
       "      <td>2011</td>\n",
       "      <td>10:03</td>\n",
       "      <td>10</td>\n",
       "      <td>3</td>\n",
       "      <td>2011-12-09</td>\n",
       "      <td>Fri</td>\n",
       "      <td>8.26</td>\n",
       "    </tr>\n",
       "    <tr>\n",
       "      <th>540813</th>\n",
       "      <td>581492</td>\n",
       "      <td>22356</td>\n",
       "      <td>CHARLOTTE BAG PINK POLKADOT</td>\n",
       "      <td>1</td>\n",
       "      <td>12/9/2011 10:03</td>\n",
       "      <td>1.63</td>\n",
       "      <td>NaN</td>\n",
       "      <td>United Kingdom</td>\n",
       "      <td>12</td>\n",
       "      <td>9</td>\n",
       "      <td>2011</td>\n",
       "      <td>10:03</td>\n",
       "      <td>10</td>\n",
       "      <td>3</td>\n",
       "      <td>2011-12-09</td>\n",
       "      <td>Fri</td>\n",
       "      <td>1.63</td>\n",
       "    </tr>\n",
       "    <tr>\n",
       "      <th>540823</th>\n",
       "      <td>581492</td>\n",
       "      <td>85038</td>\n",
       "      <td>6 CHOCOLATE LOVE HEART T-LIGHTS</td>\n",
       "      <td>1</td>\n",
       "      <td>12/9/2011 10:03</td>\n",
       "      <td>4.13</td>\n",
       "      <td>NaN</td>\n",
       "      <td>United Kingdom</td>\n",
       "      <td>12</td>\n",
       "      <td>9</td>\n",
       "      <td>2011</td>\n",
       "      <td>10:03</td>\n",
       "      <td>10</td>\n",
       "      <td>3</td>\n",
       "      <td>2011-12-09</td>\n",
       "      <td>Fri</td>\n",
       "      <td>4.13</td>\n",
       "    </tr>\n",
       "    <tr>\n",
       "      <th>541908</th>\n",
       "      <td>581587</td>\n",
       "      <td>22138</td>\n",
       "      <td>BAKING SET 9 PIECE RETROSPOT</td>\n",
       "      <td>3</td>\n",
       "      <td>12/9/2011 12:50</td>\n",
       "      <td>4.95</td>\n",
       "      <td>12680.0</td>\n",
       "      <td>France</td>\n",
       "      <td>12</td>\n",
       "      <td>9</td>\n",
       "      <td>2011</td>\n",
       "      <td>12:50</td>\n",
       "      <td>12</td>\n",
       "      <td>50</td>\n",
       "      <td>2011-12-09</td>\n",
       "      <td>Fri</td>\n",
       "      <td>14.85</td>\n",
       "    </tr>\n",
       "  </tbody>\n",
       "</table>\n",
       "<p>536641 rows × 17 columns</p>\n",
       "</div>"
      ],
      "text/plain": [
       "       InvoiceNo StockCode                         Description  Quantity  \\\n",
       "0         536365    85123A  WHITE HANGING HEART T-LIGHT HOLDER         6   \n",
       "2066      536557    84029E      RED WOOLLY HOTTIE WHITE HEART.         1   \n",
       "2067      536557     22678       FRENCH BLUE METAL DOOR SIGN 3         3   \n",
       "2068      536557     22686      FRENCH BLUE METAL DOOR SIGN No         1   \n",
       "2069      536557     22468        BABUSHKA LIGHTS STRING OF 10         1   \n",
       "...          ...       ...                                 ...       ...   \n",
       "540815    581492     22358             KINGS CHOICE TEA CADDY          1   \n",
       "540814    581492     22357            KINGS CHOICE BISCUIT TIN         2   \n",
       "540813    581492     22356         CHARLOTTE BAG PINK POLKADOT         1   \n",
       "540823    581492     85038     6 CHOCOLATE LOVE HEART T-LIGHTS         1   \n",
       "541908    581587     22138       BAKING SET 9 PIECE RETROSPOT          3   \n",
       "\n",
       "            InvoiceDate  UnitPrice  CustomerID         Country  Month  Day  \\\n",
       "0        12/1/2010 8:26       2.55     17850.0  United Kingdom     12    1   \n",
       "2066    12/1/2010 14:41       3.75     17841.0  United Kingdom     12    1   \n",
       "2067    12/1/2010 14:41       1.25     17841.0  United Kingdom     12    1   \n",
       "2068    12/1/2010 14:41       1.25     17841.0  United Kingdom     12    1   \n",
       "2069    12/1/2010 14:41       6.75     17841.0  United Kingdom     12    1   \n",
       "...                 ...        ...         ...             ...    ...  ...   \n",
       "540815  12/9/2011 10:03       5.79         NaN  United Kingdom     12    9   \n",
       "540814  12/9/2011 10:03       4.13         NaN  United Kingdom     12    9   \n",
       "540813  12/9/2011 10:03       1.63         NaN  United Kingdom     12    9   \n",
       "540823  12/9/2011 10:03       4.13         NaN  United Kingdom     12    9   \n",
       "541908  12/9/2011 12:50       4.95     12680.0          France     12    9   \n",
       "\n",
       "        Year   Time  Hour  Min    datetime Day_week  Total_Amount  \n",
       "0       2010   8:26     8   26  2010-12-01      Wed         15.30  \n",
       "2066    2010  14:41    14   41  2010-12-01      Wed          3.75  \n",
       "2067    2010  14:41    14   41  2010-12-01      Wed          3.75  \n",
       "2068    2010  14:41    14   41  2010-12-01      Wed          1.25  \n",
       "2069    2010  14:41    14   41  2010-12-01      Wed          6.75  \n",
       "...      ...    ...   ...  ...         ...      ...           ...  \n",
       "540815  2011  10:03    10    3  2011-12-09      Fri          5.79  \n",
       "540814  2011  10:03    10    3  2011-12-09      Fri          8.26  \n",
       "540813  2011  10:03    10    3  2011-12-09      Fri          1.63  \n",
       "540823  2011  10:03    10    3  2011-12-09      Fri          4.13  \n",
       "541908  2011  12:50    12   50  2011-12-09      Fri         14.85  \n",
       "\n",
       "[536641 rows x 17 columns]"
      ]
     },
     "execution_count": 385,
     "metadata": {},
     "output_type": "execute_result"
    }
   ],
   "source": [
    "#Dropping the duplicates from the data set\n",
    "df = df.drop_duplicates()\n",
    "df"
   ]
  },
  {
   "cell_type": "code",
   "execution_count": 386,
   "metadata": {},
   "outputs": [
    {
     "data": {
      "text/plain": [
       "0.0"
      ]
     },
     "execution_count": 386,
     "metadata": {},
     "output_type": "execute_result"
    }
   ],
   "source": [
    "# Checking for duplicates after droping the duplicates\n",
    "df.duplicated().sum()/len(df)*100"
   ]
  },
  {
   "cell_type": "markdown",
   "metadata": {},
   "source": [
    "#### 3.2.2 Missing Values Treatment"
   ]
  },
  {
   "cell_type": "markdown",
   "metadata": {},
   "source": [
    "Missing data in the E-commerce data set can reduce the power / fit of a model or can lead to a biased model because we have not analysed the behavior and relationship with other variables correctly. It can lead to wrong prediction or classification."
   ]
  },
  {
   "cell_type": "code",
   "execution_count": 387,
   "metadata": {},
   "outputs": [
    {
     "data": {
      "text/plain": [
       "InvoiceNo        0.000000\n",
       "StockCode        0.000000\n",
       "Description      0.270945\n",
       "Quantity         0.000000\n",
       "InvoiceDate      0.000000\n",
       "UnitPrice        0.000000\n",
       "CustomerID      25.163377\n",
       "Country          0.000000\n",
       "Month            0.000000\n",
       "Day              0.000000\n",
       "Year             0.000000\n",
       "Time             0.000000\n",
       "Hour             0.000000\n",
       "Min              0.000000\n",
       "datetime         0.000000\n",
       "Day_week         0.000000\n",
       "Total_Amount     0.000000\n",
       "dtype: float64"
      ]
     },
     "execution_count": 387,
     "metadata": {},
     "output_type": "execute_result"
    }
   ],
   "source": [
    "# Sum of missing values as a percentage\n",
    "df.isnull().sum()/len(df)* 100"
   ]
  },
  {
   "cell_type": "code",
   "execution_count": 388,
   "metadata": {},
   "outputs": [
    {
     "data": {
      "text/html": [
       "<div>\n",
       "<style scoped>\n",
       "    .dataframe tbody tr th:only-of-type {\n",
       "        vertical-align: middle;\n",
       "    }\n",
       "\n",
       "    .dataframe tbody tr th {\n",
       "        vertical-align: top;\n",
       "    }\n",
       "\n",
       "    .dataframe thead th {\n",
       "        text-align: right;\n",
       "    }\n",
       "</style>\n",
       "<table border=\"1\" class=\"dataframe\">\n",
       "  <thead>\n",
       "    <tr style=\"text-align: right;\">\n",
       "      <th></th>\n",
       "      <th>InvoiceNo</th>\n",
       "      <th>StockCode</th>\n",
       "      <th>Description</th>\n",
       "      <th>Quantity</th>\n",
       "      <th>InvoiceDate</th>\n",
       "      <th>UnitPrice</th>\n",
       "      <th>CustomerID</th>\n",
       "      <th>Country</th>\n",
       "      <th>Month</th>\n",
       "      <th>Day</th>\n",
       "      <th>Year</th>\n",
       "      <th>Time</th>\n",
       "      <th>Hour</th>\n",
       "      <th>Min</th>\n",
       "      <th>datetime</th>\n",
       "      <th>Day_week</th>\n",
       "      <th>Total_Amount</th>\n",
       "    </tr>\n",
       "  </thead>\n",
       "  <tbody>\n",
       "    <tr>\n",
       "      <th>2102</th>\n",
       "      <td>536558</td>\n",
       "      <td>22802</td>\n",
       "      <td>FAUX FUR CHOCOLATE THROW</td>\n",
       "      <td>5</td>\n",
       "      <td>12/1/2010 14:48</td>\n",
       "      <td>19.95</td>\n",
       "      <td>NaN</td>\n",
       "      <td>United Kingdom</td>\n",
       "      <td>12</td>\n",
       "      <td>1</td>\n",
       "      <td>2010</td>\n",
       "      <td>14:48</td>\n",
       "      <td>14</td>\n",
       "      <td>48</td>\n",
       "      <td>2010-12-01</td>\n",
       "      <td>Wed</td>\n",
       "      <td>99.75</td>\n",
       "    </tr>\n",
       "    <tr>\n",
       "      <th>1969</th>\n",
       "      <td>536544</td>\n",
       "      <td>21758</td>\n",
       "      <td>VINTAGE SHELLS PRINT</td>\n",
       "      <td>1</td>\n",
       "      <td>12/1/2010 14:32</td>\n",
       "      <td>12.72</td>\n",
       "      <td>NaN</td>\n",
       "      <td>United Kingdom</td>\n",
       "      <td>12</td>\n",
       "      <td>1</td>\n",
       "      <td>2010</td>\n",
       "      <td>14:32</td>\n",
       "      <td>14</td>\n",
       "      <td>32</td>\n",
       "      <td>2010-12-01</td>\n",
       "      <td>Wed</td>\n",
       "      <td>12.72</td>\n",
       "    </tr>\n",
       "    <tr>\n",
       "      <th>1970</th>\n",
       "      <td>536545</td>\n",
       "      <td>21134</td>\n",
       "      <td>NaN</td>\n",
       "      <td>1</td>\n",
       "      <td>12/1/2010 14:32</td>\n",
       "      <td>0.00</td>\n",
       "      <td>NaN</td>\n",
       "      <td>United Kingdom</td>\n",
       "      <td>12</td>\n",
       "      <td>1</td>\n",
       "      <td>2010</td>\n",
       "      <td>14:32</td>\n",
       "      <td>14</td>\n",
       "      <td>32</td>\n",
       "      <td>2010-12-01</td>\n",
       "      <td>Wed</td>\n",
       "      <td>0.00</td>\n",
       "    </tr>\n",
       "    <tr>\n",
       "      <th>1971</th>\n",
       "      <td>536546</td>\n",
       "      <td>22145</td>\n",
       "      <td>NaN</td>\n",
       "      <td>1</td>\n",
       "      <td>12/1/2010 14:33</td>\n",
       "      <td>0.00</td>\n",
       "      <td>NaN</td>\n",
       "      <td>United Kingdom</td>\n",
       "      <td>12</td>\n",
       "      <td>1</td>\n",
       "      <td>2010</td>\n",
       "      <td>14:33</td>\n",
       "      <td>14</td>\n",
       "      <td>33</td>\n",
       "      <td>2010-12-01</td>\n",
       "      <td>Wed</td>\n",
       "      <td>0.00</td>\n",
       "    </tr>\n",
       "    <tr>\n",
       "      <th>1972</th>\n",
       "      <td>536547</td>\n",
       "      <td>37509</td>\n",
       "      <td>NaN</td>\n",
       "      <td>1</td>\n",
       "      <td>12/1/2010 14:33</td>\n",
       "      <td>0.00</td>\n",
       "      <td>NaN</td>\n",
       "      <td>United Kingdom</td>\n",
       "      <td>12</td>\n",
       "      <td>1</td>\n",
       "      <td>2010</td>\n",
       "      <td>14:33</td>\n",
       "      <td>14</td>\n",
       "      <td>33</td>\n",
       "      <td>2010-12-01</td>\n",
       "      <td>Wed</td>\n",
       "      <td>0.00</td>\n",
       "    </tr>\n",
       "    <tr>\n",
       "      <th>1968</th>\n",
       "      <td>536544</td>\n",
       "      <td>21742</td>\n",
       "      <td>LARGE ROUND WICKER PLATTER</td>\n",
       "      <td>1</td>\n",
       "      <td>12/1/2010 14:32</td>\n",
       "      <td>12.72</td>\n",
       "      <td>NaN</td>\n",
       "      <td>United Kingdom</td>\n",
       "      <td>12</td>\n",
       "      <td>1</td>\n",
       "      <td>2010</td>\n",
       "      <td>14:32</td>\n",
       "      <td>14</td>\n",
       "      <td>32</td>\n",
       "      <td>2010-12-01</td>\n",
       "      <td>Wed</td>\n",
       "      <td>12.72</td>\n",
       "    </tr>\n",
       "    <tr>\n",
       "      <th>1987</th>\n",
       "      <td>536549</td>\n",
       "      <td>85226A</td>\n",
       "      <td>NaN</td>\n",
       "      <td>1</td>\n",
       "      <td>12/1/2010 14:34</td>\n",
       "      <td>0.00</td>\n",
       "      <td>NaN</td>\n",
       "      <td>United Kingdom</td>\n",
       "      <td>12</td>\n",
       "      <td>1</td>\n",
       "      <td>2010</td>\n",
       "      <td>14:34</td>\n",
       "      <td>14</td>\n",
       "      <td>34</td>\n",
       "      <td>2010-12-01</td>\n",
       "      <td>Wed</td>\n",
       "      <td>0.00</td>\n",
       "    </tr>\n",
       "    <tr>\n",
       "      <th>1988</th>\n",
       "      <td>536550</td>\n",
       "      <td>85044</td>\n",
       "      <td>NaN</td>\n",
       "      <td>1</td>\n",
       "      <td>12/1/2010 14:34</td>\n",
       "      <td>0.00</td>\n",
       "      <td>NaN</td>\n",
       "      <td>United Kingdom</td>\n",
       "      <td>12</td>\n",
       "      <td>1</td>\n",
       "      <td>2010</td>\n",
       "      <td>14:34</td>\n",
       "      <td>14</td>\n",
       "      <td>34</td>\n",
       "      <td>2010-12-01</td>\n",
       "      <td>Wed</td>\n",
       "      <td>0.00</td>\n",
       "    </tr>\n",
       "    <tr>\n",
       "      <th>1967</th>\n",
       "      <td>536544</td>\n",
       "      <td>21731</td>\n",
       "      <td>RED TOADSTOOL LED NIGHT LIGHT</td>\n",
       "      <td>5</td>\n",
       "      <td>12/1/2010 14:32</td>\n",
       "      <td>3.36</td>\n",
       "      <td>NaN</td>\n",
       "      <td>United Kingdom</td>\n",
       "      <td>12</td>\n",
       "      <td>1</td>\n",
       "      <td>2010</td>\n",
       "      <td>14:32</td>\n",
       "      <td>14</td>\n",
       "      <td>32</td>\n",
       "      <td>2010-12-01</td>\n",
       "      <td>Wed</td>\n",
       "      <td>16.80</td>\n",
       "    </tr>\n",
       "    <tr>\n",
       "      <th>1965</th>\n",
       "      <td>536544</td>\n",
       "      <td>21721</td>\n",
       "      <td>CANDY SHOP  STICKER SHEET</td>\n",
       "      <td>1</td>\n",
       "      <td>12/1/2010 14:32</td>\n",
       "      <td>1.66</td>\n",
       "      <td>NaN</td>\n",
       "      <td>United Kingdom</td>\n",
       "      <td>12</td>\n",
       "      <td>1</td>\n",
       "      <td>2010</td>\n",
       "      <td>14:32</td>\n",
       "      <td>14</td>\n",
       "      <td>32</td>\n",
       "      <td>2010-12-01</td>\n",
       "      <td>Wed</td>\n",
       "      <td>1.66</td>\n",
       "    </tr>\n",
       "  </tbody>\n",
       "</table>\n",
       "</div>"
      ],
      "text/plain": [
       "     InvoiceNo StockCode                    Description  Quantity  \\\n",
       "2102    536558     22802       FAUX FUR CHOCOLATE THROW         5   \n",
       "1969    536544     21758           VINTAGE SHELLS PRINT         1   \n",
       "1970    536545     21134                            NaN         1   \n",
       "1971    536546     22145                            NaN         1   \n",
       "1972    536547     37509                            NaN         1   \n",
       "1968    536544     21742    LARGE ROUND WICKER PLATTER          1   \n",
       "1987    536549    85226A                            NaN         1   \n",
       "1988    536550     85044                            NaN         1   \n",
       "1967    536544     21731  RED TOADSTOOL LED NIGHT LIGHT         5   \n",
       "1965    536544     21721      CANDY SHOP  STICKER SHEET         1   \n",
       "\n",
       "          InvoiceDate  UnitPrice  CustomerID         Country  Month  Day  \\\n",
       "2102  12/1/2010 14:48      19.95         NaN  United Kingdom     12    1   \n",
       "1969  12/1/2010 14:32      12.72         NaN  United Kingdom     12    1   \n",
       "1970  12/1/2010 14:32       0.00         NaN  United Kingdom     12    1   \n",
       "1971  12/1/2010 14:33       0.00         NaN  United Kingdom     12    1   \n",
       "1972  12/1/2010 14:33       0.00         NaN  United Kingdom     12    1   \n",
       "1968  12/1/2010 14:32      12.72         NaN  United Kingdom     12    1   \n",
       "1987  12/1/2010 14:34       0.00         NaN  United Kingdom     12    1   \n",
       "1988  12/1/2010 14:34       0.00         NaN  United Kingdom     12    1   \n",
       "1967  12/1/2010 14:32       3.36         NaN  United Kingdom     12    1   \n",
       "1965  12/1/2010 14:32       1.66         NaN  United Kingdom     12    1   \n",
       "\n",
       "      Year   Time  Hour  Min    datetime Day_week  Total_Amount  \n",
       "2102  2010  14:48    14   48  2010-12-01      Wed         99.75  \n",
       "1969  2010  14:32    14   32  2010-12-01      Wed         12.72  \n",
       "1970  2010  14:32    14   32  2010-12-01      Wed          0.00  \n",
       "1971  2010  14:33    14   33  2010-12-01      Wed          0.00  \n",
       "1972  2010  14:33    14   33  2010-12-01      Wed          0.00  \n",
       "1968  2010  14:32    14   32  2010-12-01      Wed         12.72  \n",
       "1987  2010  14:34    14   34  2010-12-01      Wed          0.00  \n",
       "1988  2010  14:34    14   34  2010-12-01      Wed          0.00  \n",
       "1967  2010  14:32    14   32  2010-12-01      Wed         16.80  \n",
       "1965  2010  14:32    14   32  2010-12-01      Wed          1.66  "
      ]
     },
     "execution_count": 388,
     "metadata": {},
     "output_type": "execute_result"
    }
   ],
   "source": [
    "#Checking the top 10 missing values\n",
    "df1 = df[df.isna().any(axis=1)]\n",
    "\n",
    "df1.head(10)"
   ]
  },
  {
   "cell_type": "code",
   "execution_count": 389,
   "metadata": {},
   "outputs": [
    {
     "data": {
      "text/plain": [
       "2011    0.921771\n",
       "2010    0.078229\n",
       "Name: Year, dtype: float64"
      ]
     },
     "execution_count": 389,
     "metadata": {},
     "output_type": "execute_result"
    }
   ],
   "source": [
    "#checking the distribution of the data in 2010 and 2011\n",
    "df['Year'].value_counts()/len(df)"
   ]
  },
  {
   "cell_type": "markdown",
   "metadata": {},
   "source": [
    "A large percentage of the data set is from 2011"
   ]
  },
  {
   "cell_type": "code",
   "execution_count": 390,
   "metadata": {},
   "outputs": [
    {
     "data": {
      "text/plain": [
       "11    19111\n",
       "1     13230\n",
       "7     12011\n",
       "10    10041\n",
       "9      9402\n",
       "6      9033\n",
       "3      8923\n",
       "5      8121\n",
       "12     7864\n",
       "8      7620\n",
       "2      7341\n",
       "4      6713\n",
       "Name: Month, dtype: int64"
      ]
     },
     "execution_count": 390,
     "metadata": {},
     "output_type": "execute_result"
    }
   ],
   "source": [
    "# Checking the months with the highest missing values in 2011\n",
    "df_2011 = df1.loc[lambda df1: df1[\"Year\"]==2011]\n",
    "df_2011['Month'].value_counts()[:20]"
   ]
  },
  {
   "cell_type": "markdown",
   "metadata": {},
   "source": [
    "From this analysis we can see that the missing values in 2011 are more during November, January, July and October."
   ]
  },
  {
   "cell_type": "code",
   "execution_count": 391,
   "metadata": {},
   "outputs": [
    {
     "data": {
      "text/plain": [
       "12    15627\n",
       "Name: Month, dtype: int64"
      ]
     },
     "execution_count": 391,
     "metadata": {},
     "output_type": "execute_result"
    }
   ],
   "source": [
    "#checking the months with the highest missing value in 2010\n",
    "df_2010 = df1.loc[lambda df1: df1[\"Year\"]==2010]\n",
    "df_2010['Month'].value_counts()[:20]"
   ]
  },
  {
   "cell_type": "code",
   "execution_count": 392,
   "metadata": {},
   "outputs": [
    {
     "data": {
      "text/plain": [
       "2011    494660\n",
       "2010     41981\n",
       "Name: Year, dtype: int64"
      ]
     },
     "execution_count": 392,
     "metadata": {},
     "output_type": "execute_result"
    }
   ],
   "source": [
    "df['Year'].value_counts()"
   ]
  },
  {
   "cell_type": "code",
   "execution_count": 393,
   "metadata": {},
   "outputs": [
    {
     "data": {
      "text/plain": [
       "InvoiceNo       0.0\n",
       "StockCode       0.0\n",
       "Description     0.0\n",
       "Quantity        0.0\n",
       "InvoiceDate     0.0\n",
       "UnitPrice       0.0\n",
       "CustomerID      0.0\n",
       "Country         0.0\n",
       "Month           0.0\n",
       "Day             0.0\n",
       "Year            0.0\n",
       "Time            0.0\n",
       "Hour            0.0\n",
       "Min             0.0\n",
       "datetime        0.0\n",
       "Day_week        0.0\n",
       "Total_Amount    0.0\n",
       "dtype: float64"
      ]
     },
     "execution_count": 393,
     "metadata": {},
     "output_type": "execute_result"
    }
   ],
   "source": [
    "# Dropping all the null values in the data set\n",
    "df=df.dropna()\n",
    "df.isnull().sum()/len(df)* 100"
   ]
  },
  {
   "cell_type": "markdown",
   "metadata": {},
   "source": [
    "#### 3.2.3 Outliers"
   ]
  },
  {
   "cell_type": "markdown",
   "metadata": {},
   "source": [
    "Outliers in the Ecommerce data set can drastically change the results of the data analysis and statistical modeling. There are numerous unfavourable impacts of outliers in the data set:\n",
    "\n",
    "It increases the error variance and reduces the power of statistical tests\n",
    "\n",
    "If the outliers are non-randomly distributed, they can decrease normality\n",
    "\n",
    "They can bias or influence estimates that may be of substantive interest\n",
    "\n",
    "They can also impact the basic assumption of Regression, ANOVA and other statistical model assumptions.\n",
    "\n",
    "In this case we will use boxplots to identify the outliers."
   ]
  },
  {
   "cell_type": "markdown",
   "metadata": {},
   "source": [
    "##### 3.2.3.1 Unit Price"
   ]
  },
  {
   "cell_type": "code",
   "execution_count": 394,
   "metadata": {},
   "outputs": [
    {
     "data": {
      "image/png": "[encoded data removed]",
      "text/plain": [
       "<Figure size 720x216 with 1 Axes>"
      ]
     },
     "metadata": {
      "needs_background": "light"
     },
     "output_type": "display_data"
    }
   ],
   "source": [
    "# identify the price outliers\n",
    "plt.figure(figsize=(10,3))\n",
    "\n",
    "sns.boxplot(x = 'UnitPrice', data = df)\n",
    "\n",
    "# Display the plot\n",
    "plt.show()"
   ]
  },
  {
   "cell_type": "code",
   "execution_count": 395,
   "metadata": {},
   "outputs": [],
   "source": [
    "i = df[(df['UnitPrice']>10000)].index\n",
    "\n",
    "df = df.drop(i)"
   ]
  },
  {
   "cell_type": "code",
   "execution_count": 396,
   "metadata": {},
   "outputs": [
    {
     "data": {
      "image/png": "[encoded data removed]",
      "text/plain": [
       "<Figure size 720x216 with 1 Axes>"
      ]
     },
     "metadata": {
      "needs_background": "light"
     },
     "output_type": "display_data"
    }
   ],
   "source": [
    "# identify the price outliers after removing the outliers\n",
    "plt.figure(figsize=(10,3))\n",
    "\n",
    "sns.boxplot(x = 'UnitPrice', data = df)\n",
    "\n",
    "# Display the plot\n",
    "plt.show()"
   ]
  },
  {
   "cell_type": "markdown",
   "metadata": {},
   "source": [
    "##### 3.2.3.2 Quantity"
   ]
  },
  {
   "cell_type": "code",
   "execution_count": 397,
   "metadata": {},
   "outputs": [
    {
     "data": {
      "image/png": "[encoded data removed]",
      "text/plain": [
       "<Figure size 720x216 with 1 Axes>"
      ]
     },
     "metadata": {
      "needs_background": "light"
     },
     "output_type": "display_data"
    }
   ],
   "source": [
    "# identify the quantity outliers\n",
    "plt.figure(figsize=(10,3))\n",
    "\n",
    "sns.boxplot(x = 'Quantity', data = df)\n",
    "\n",
    "# Display the plot\n",
    "plt.show()"
   ]
  },
  {
   "cell_type": "code",
   "execution_count": 398,
   "metadata": {},
   "outputs": [],
   "source": [
    "i = df[(df['Quantity']>18000)].index\n",
    "\n",
    "k = df[(df['Quantity']<-15000)].index\n",
    "\n",
    "df = df.drop(i)\n",
    "df = df.drop(k)"
   ]
  },
  {
   "cell_type": "code",
   "execution_count": 399,
   "metadata": {},
   "outputs": [
    {
     "data": {
      "image/png": "[encoded data removed]",
      "text/plain": [
       "<Figure size 720x216 with 1 Axes>"
      ]
     },
     "metadata": {
      "needs_background": "light"
     },
     "output_type": "display_data"
    }
   ],
   "source": [
    "# identify the quantity outliers\n",
    "plt.figure(figsize=(10,3))\n",
    "\n",
    "sns.boxplot(x = 'Quantity', data = df)\n",
    "\n",
    "# Display the plot\n",
    "plt.show()"
   ]
  },
  {
   "cell_type": "markdown",
   "metadata": {},
   "source": [
    "### 3.3.Exploratory Data Analysis"
   ]
  },
  {
   "cell_type": "markdown",
   "metadata": {},
   "source": [
    "### 3.3.1.Univariate Analysis"
   ]
  },
  {
   "cell_type": "markdown",
   "metadata": {},
   "source": [
    "#### 3.3.1.1. Orders"
   ]
  },
  {
   "cell_type": "code",
   "execution_count": 400,
   "metadata": {},
   "outputs": [
    {
     "data": {
      "text/html": [
       "<div>\n",
       "<style scoped>\n",
       "    .dataframe tbody tr th:only-of-type {\n",
       "        vertical-align: middle;\n",
       "    }\n",
       "\n",
       "    .dataframe tbody tr th {\n",
       "        vertical-align: top;\n",
       "    }\n",
       "\n",
       "    .dataframe thead th {\n",
       "        text-align: right;\n",
       "    }\n",
       "</style>\n",
       "<table border=\"1\" class=\"dataframe\">\n",
       "  <thead>\n",
       "    <tr style=\"text-align: right;\">\n",
       "      <th></th>\n",
       "      <th>CustomerID</th>\n",
       "      <th>Quantity</th>\n",
       "    </tr>\n",
       "  </thead>\n",
       "  <tbody>\n",
       "    <tr>\n",
       "      <th>1702</th>\n",
       "      <td>14646.0</td>\n",
       "      <td>196719</td>\n",
       "    </tr>\n",
       "    <tr>\n",
       "      <th>54</th>\n",
       "      <td>12415.0</td>\n",
       "      <td>77242</td>\n",
       "    </tr>\n",
       "    <tr>\n",
       "      <th>1894</th>\n",
       "      <td>14911.0</td>\n",
       "      <td>77155</td>\n",
       "    </tr>\n",
       "    <tr>\n",
       "      <th>3757</th>\n",
       "      <td>17450.0</td>\n",
       "      <td>69009</td>\n",
       "    </tr>\n",
       "    <tr>\n",
       "      <th>4232</th>\n",
       "      <td>18102.0</td>\n",
       "      <td>64122</td>\n",
       "    </tr>\n",
       "    <tr>\n",
       "      <th>3800</th>\n",
       "      <td>17511.0</td>\n",
       "      <td>63012</td>\n",
       "    </tr>\n",
       "    <tr>\n",
       "      <th>1004</th>\n",
       "      <td>13694.0</td>\n",
       "      <td>61899</td>\n",
       "    </tr>\n",
       "    <tr>\n",
       "      <th>1446</th>\n",
       "      <td>14298.0</td>\n",
       "      <td>58021</td>\n",
       "    </tr>\n",
       "    <tr>\n",
       "      <th>1344</th>\n",
       "      <td>14156.0</td>\n",
       "      <td>56908</td>\n",
       "    </tr>\n",
       "    <tr>\n",
       "      <th>3201</th>\n",
       "      <td>16684.0</td>\n",
       "      <td>49390</td>\n",
       "    </tr>\n",
       "  </tbody>\n",
       "</table>\n",
       "</div>"
      ],
      "text/plain": [
       "      CustomerID  Quantity\n",
       "1702     14646.0    196719\n",
       "54       12415.0     77242\n",
       "1894     14911.0     77155\n",
       "3757     17450.0     69009\n",
       "4232     18102.0     64122\n",
       "3800     17511.0     63012\n",
       "1004     13694.0     61899\n",
       "1446     14298.0     58021\n",
       "1344     14156.0     56908\n",
       "3201     16684.0     49390"
      ]
     },
     "execution_count": 400,
     "metadata": {},
     "output_type": "execute_result"
    }
   ],
   "source": [
    "\n",
    "orders = df.groupby(by=['CustomerID'], as_index=False)['Quantity'].sum().sort_values(by='Quantity', ascending=False)\n",
    "\n",
    "orders.head(10)"
   ]
  },
  {
   "cell_type": "markdown",
   "metadata": {},
   "source": [
    "#### 3.3.1.2. Country"
   ]
  },
  {
   "cell_type": "code",
   "execution_count": 401,
   "metadata": {},
   "outputs": [
    {
     "data": {
      "image/png": "[encoded data removed]",
      "text/plain": [
       "<Figure size 1080x576 with 1 Axes>"
      ]
     },
     "metadata": {
      "needs_background": "light"
     },
     "output_type": "display_data"
    }
   ],
   "source": [
    "#Orders count plot\n",
    "plt.figure(figsize=(15,8))\n",
    "\n",
    "sns.countplot(x='Country', data= df, order=df['Country'].value_counts().iloc[:5].index)\n",
    "plt.title('Number of Orders per Top 5 Countries')\n",
    "plt.xlabel('Country')\n",
    "plt.ylabel('Count')\n",
    "plt.show()"
   ]
  },
  {
   "cell_type": "markdown",
   "metadata": {},
   "source": [
    "#### 3.3.1.3. Months"
   ]
  },
  {
   "cell_type": "code",
   "execution_count": 402,
   "metadata": {},
   "outputs": [
    {
     "data": {
      "image/png": "[encoded data removed]",
      "text/plain": [
       "<Figure size 1080x576 with 1 Axes>"
      ]
     },
     "metadata": {
      "needs_background": "light"
     },
     "output_type": "display_data"
    }
   ],
   "source": [
    "#Months count plot\n",
    "plt.figure(figsize=(15,8))\n",
    "\n",
    "sns.countplot(x='Month', data= df, order=df['Month'].value_counts().index)\n",
    "plt.title('Number of Transcations by Months')\n",
    "plt.xlabel('Months')\n",
    "plt.ylabel('Count')\n",
    "plt.show()"
   ]
  },
  {
   "cell_type": "markdown",
   "metadata": {},
   "source": [
    "#### 3.3.1.4. Time of Day"
   ]
  },
  {
   "cell_type": "code",
   "execution_count": 403,
   "metadata": {},
   "outputs": [],
   "source": [
    "def get_time(Hour):\n",
    "    if Hour < 12:\n",
    "         return 'Morning'\n",
    "    if Hour > 12 and Hour < 16:\n",
    "        return 'Afternoon'\n",
    "    else:\n",
    "        return 'Evening'"
   ]
  },
  {
   "cell_type": "code",
   "execution_count": 404,
   "metadata": {},
   "outputs": [
    {
     "data": {
      "text/plain": [
       "Afternoon    163885\n",
       "Morning      119905\n",
       "Evening      117809\n",
       "Name: time_day, dtype: int64"
      ]
     },
     "execution_count": 404,
     "metadata": {},
     "output_type": "execute_result"
    }
   ],
   "source": [
    "df['time_day']=df['Hour'].apply(get_time)\n",
    "df['time_day'].value_counts()"
   ]
  },
  {
   "cell_type": "code",
   "execution_count": 405,
   "metadata": {},
   "outputs": [
    {
     "data": {
      "image/png": "[encoded data removed]",
      "text/plain": [
       "<Figure size 1080x576 with 1 Axes>"
      ]
     },
     "metadata": {
      "needs_background": "light"
     },
     "output_type": "display_data"
    }
   ],
   "source": [
    "#Months count plot\n",
    "plt.figure(figsize=(15,8))\n",
    "\n",
    "sns.countplot(x='time_day', data= df, order=df['time_day'].value_counts().index)\n",
    "plt.title('Number of Transcations by Time_of_Day')\n",
    "plt.xlabel('Time_of_Day')\n",
    "plt.ylabel('Count')\n",
    "plt.show()"
   ]
  },
  {
   "cell_type": "markdown",
   "metadata": {},
   "source": [
    "#### 3.3.1.5. Day of the Week"
   ]
  },
  {
   "cell_type": "code",
   "execution_count": 406,
   "metadata": {},
   "outputs": [
    {
     "data": {
      "image/png": "[encoded data removed]",
      "text/plain": [
       "<Figure size 1080x576 with 1 Axes>"
      ]
     },
     "metadata": {
      "needs_background": "light"
     },
     "output_type": "display_data"
    }
   ],
   "source": [
    "#Months count plot\n",
    "plt.figure(figsize=(15,8))\n",
    "\n",
    "sns.countplot(x='Day_week', data= df, order=df['Day_week'].value_counts().index)\n",
    "plt.title('Number of Transcations by Day_of_the_Week')\n",
    "plt.xlabel('Time_of_Day')\n",
    "plt.ylabel('Count')\n",
    "plt.show()"
   ]
  },
  {
   "cell_type": "markdown",
   "metadata": {},
   "source": [
    "#### 3.3.1.5. Time"
   ]
  },
  {
   "cell_type": "code",
   "execution_count": 407,
   "metadata": {},
   "outputs": [],
   "source": [
    "def get_time(Hour):\n",
    "    if Hour < 12:\n",
    "         return 'Morning'\n",
    "    if Hour > 12 and Hour < 16:\n",
    "        return 'Afternoon'\n",
    "    else:\n",
    "        return 'Evening'"
   ]
  },
  {
   "cell_type": "code",
   "execution_count": null,
   "metadata": {},
   "outputs": [],
   "source": []
  },
  {
   "cell_type": "code",
   "execution_count": null,
   "metadata": {},
   "outputs": [],
   "source": []
  },
  {
   "cell_type": "code",
   "execution_count": null,
   "metadata": {},
   "outputs": [],
   "source": []
  },
  {
   "cell_type": "markdown",
   "metadata": {},
   "source": [
    "### 3.3.2.Bivariate Analysis"
   ]
  },
  {
   "cell_type": "markdown",
   "metadata": {},
   "source": [
    "#### 3.3.2.1 Total Amount vs Customer ID"
   ]
  },
  {
   "cell_type": "markdown",
   "metadata": {},
   "source": [
    "#### 3.3.2.2 Total Amount vs Country"
   ]
  },
  {
   "cell_type": "markdown",
   "metadata": {},
   "source": [
    "#### 3.3.2.3 Number of Orders per Day"
   ]
  },
  {
   "cell_type": "markdown",
   "metadata": {},
   "source": [
    "#### 3.3.2.4 Number of Orders per Month"
   ]
  },
  {
   "cell_type": "markdown",
   "metadata": {},
   "source": [
    "#### 3.3.2.5 Number of Orders per Customer per Country"
   ]
  },
  {
   "cell_type": "code",
   "execution_count": 408,
   "metadata": {},
   "outputs": [
    {
     "data": {
      "text/html": [
       "<div>\n",
       "<style scoped>\n",
       "    .dataframe tbody tr th:only-of-type {\n",
       "        vertical-align: middle;\n",
       "    }\n",
       "\n",
       "    .dataframe tbody tr th {\n",
       "        vertical-align: top;\n",
       "    }\n",
       "\n",
       "    .dataframe thead th {\n",
       "        text-align: right;\n",
       "    }\n",
       "</style>\n",
       "<table border=\"1\" class=\"dataframe\">\n",
       "  <thead>\n",
       "    <tr style=\"text-align: right;\">\n",
       "      <th></th>\n",
       "      <th>CustomerID</th>\n",
       "      <th>Country</th>\n",
       "      <th>Quantity</th>\n",
       "    </tr>\n",
       "  </thead>\n",
       "  <tbody>\n",
       "    <tr>\n",
       "      <th>1710</th>\n",
       "      <td>14646.0</td>\n",
       "      <td>Netherlands</td>\n",
       "      <td>196719</td>\n",
       "    </tr>\n",
       "    <tr>\n",
       "      <th>56</th>\n",
       "      <td>12415.0</td>\n",
       "      <td>Australia</td>\n",
       "      <td>77242</td>\n",
       "    </tr>\n",
       "    <tr>\n",
       "      <th>1902</th>\n",
       "      <td>14911.0</td>\n",
       "      <td>EIRE</td>\n",
       "      <td>77155</td>\n",
       "    </tr>\n",
       "    <tr>\n",
       "      <th>3765</th>\n",
       "      <td>17450.0</td>\n",
       "      <td>United Kingdom</td>\n",
       "      <td>69009</td>\n",
       "    </tr>\n",
       "    <tr>\n",
       "      <th>4240</th>\n",
       "      <td>18102.0</td>\n",
       "      <td>United Kingdom</td>\n",
       "      <td>64122</td>\n",
       "    </tr>\n",
       "    <tr>\n",
       "      <th>3808</th>\n",
       "      <td>17511.0</td>\n",
       "      <td>United Kingdom</td>\n",
       "      <td>63012</td>\n",
       "    </tr>\n",
       "    <tr>\n",
       "      <th>1012</th>\n",
       "      <td>13694.0</td>\n",
       "      <td>United Kingdom</td>\n",
       "      <td>61899</td>\n",
       "    </tr>\n",
       "    <tr>\n",
       "      <th>1454</th>\n",
       "      <td>14298.0</td>\n",
       "      <td>United Kingdom</td>\n",
       "      <td>58021</td>\n",
       "    </tr>\n",
       "    <tr>\n",
       "      <th>1352</th>\n",
       "      <td>14156.0</td>\n",
       "      <td>EIRE</td>\n",
       "      <td>56908</td>\n",
       "    </tr>\n",
       "    <tr>\n",
       "      <th>3209</th>\n",
       "      <td>16684.0</td>\n",
       "      <td>United Kingdom</td>\n",
       "      <td>49390</td>\n",
       "    </tr>\n",
       "  </tbody>\n",
       "</table>\n",
       "</div>"
      ],
      "text/plain": [
       "      CustomerID         Country  Quantity\n",
       "1710     14646.0     Netherlands    196719\n",
       "56       12415.0       Australia     77242\n",
       "1902     14911.0            EIRE     77155\n",
       "3765     17450.0  United Kingdom     69009\n",
       "4240     18102.0  United Kingdom     64122\n",
       "3808     17511.0  United Kingdom     63012\n",
       "1012     13694.0  United Kingdom     61899\n",
       "1454     14298.0  United Kingdom     58021\n",
       "1352     14156.0            EIRE     56908\n",
       "3209     16684.0  United Kingdom     49390"
      ]
     },
     "execution_count": 408,
     "metadata": {},
     "output_type": "execute_result"
    }
   ],
   "source": [
    "orders = df.groupby(by=['CustomerID','Country'], as_index=False)['Quantity'].sum().sort_values(by='Quantity', ascending=False)\n",
    "\n",
    "orders.head(10)"
   ]
  },
  {
   "cell_type": "code",
   "execution_count": null,
   "metadata": {},
   "outputs": [],
   "source": []
  }
 ],
 "metadata": {
  "kernelspec": {
   "display_name": "Python 3",
   "language": "python",
   "name": "python3"
  },
  "language_info": {
   "codemirror_mode": {
    "name": "ipython",
    "version": 3
   },
   "file_extension": ".py",
   "mimetype": "text/x-python",
   "name": "python",
   "nbconvert_exporter": "python",
   "pygments_lexer": "ipython3",
   "version": "3.8.5"
  }
 },
 "nbformat": 4,
 "nbformat_minor": 4
}
